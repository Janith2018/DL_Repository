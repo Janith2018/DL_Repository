{
 "cells": [
  {
   "cell_type": "code",
   "execution_count": 3,
   "id": "cbcea7d1",
   "metadata": {},
   "outputs": [],
   "source": [
    "import numpy as np\n",
    "import matplotlib.pyplot as plt\n",
    "import pandas as pd "
   ]
  },
  {
   "cell_type": "code",
   "execution_count": 4,
   "id": "ba6fe828",
   "metadata": {},
   "outputs": [
    {
     "data": {
      "text/html": [
       "<div>\n",
       "<style scoped>\n",
       "    .dataframe tbody tr th:only-of-type {\n",
       "        vertical-align: middle;\n",
       "    }\n",
       "\n",
       "    .dataframe tbody tr th {\n",
       "        vertical-align: top;\n",
       "    }\n",
       "\n",
       "    .dataframe thead th {\n",
       "        text-align: right;\n",
       "    }\n",
       "</style>\n",
       "<table border=\"1\" class=\"dataframe\">\n",
       "  <thead>\n",
       "    <tr style=\"text-align: right;\">\n",
       "      <th></th>\n",
       "      <th>RowNumber</th>\n",
       "      <th>CustomerId</th>\n",
       "      <th>Surname</th>\n",
       "      <th>CreditScore</th>\n",
       "      <th>Geography</th>\n",
       "      <th>Gender</th>\n",
       "      <th>Age</th>\n",
       "      <th>Tenure</th>\n",
       "      <th>Balance</th>\n",
       "      <th>NumOfProducts</th>\n",
       "      <th>HasCrCard</th>\n",
       "      <th>IsActiveMember</th>\n",
       "      <th>EstimatedSalary</th>\n",
       "      <th>Exited</th>\n",
       "    </tr>\n",
       "  </thead>\n",
       "  <tbody>\n",
       "    <tr>\n",
       "      <th>0</th>\n",
       "      <td>1</td>\n",
       "      <td>15634602</td>\n",
       "      <td>Hargrave</td>\n",
       "      <td>619</td>\n",
       "      <td>France</td>\n",
       "      <td>Female</td>\n",
       "      <td>42</td>\n",
       "      <td>2</td>\n",
       "      <td>0.00</td>\n",
       "      <td>1</td>\n",
       "      <td>1</td>\n",
       "      <td>1</td>\n",
       "      <td>101348.88</td>\n",
       "      <td>1</td>\n",
       "    </tr>\n",
       "    <tr>\n",
       "      <th>1</th>\n",
       "      <td>2</td>\n",
       "      <td>15647311</td>\n",
       "      <td>Hill</td>\n",
       "      <td>608</td>\n",
       "      <td>Spain</td>\n",
       "      <td>Female</td>\n",
       "      <td>41</td>\n",
       "      <td>1</td>\n",
       "      <td>83807.86</td>\n",
       "      <td>1</td>\n",
       "      <td>0</td>\n",
       "      <td>1</td>\n",
       "      <td>112542.58</td>\n",
       "      <td>0</td>\n",
       "    </tr>\n",
       "    <tr>\n",
       "      <th>2</th>\n",
       "      <td>3</td>\n",
       "      <td>15619304</td>\n",
       "      <td>Onio</td>\n",
       "      <td>502</td>\n",
       "      <td>France</td>\n",
       "      <td>Female</td>\n",
       "      <td>42</td>\n",
       "      <td>8</td>\n",
       "      <td>159660.80</td>\n",
       "      <td>3</td>\n",
       "      <td>1</td>\n",
       "      <td>0</td>\n",
       "      <td>113931.57</td>\n",
       "      <td>1</td>\n",
       "    </tr>\n",
       "    <tr>\n",
       "      <th>3</th>\n",
       "      <td>4</td>\n",
       "      <td>15701354</td>\n",
       "      <td>Boni</td>\n",
       "      <td>699</td>\n",
       "      <td>France</td>\n",
       "      <td>Female</td>\n",
       "      <td>39</td>\n",
       "      <td>1</td>\n",
       "      <td>0.00</td>\n",
       "      <td>2</td>\n",
       "      <td>0</td>\n",
       "      <td>0</td>\n",
       "      <td>93826.63</td>\n",
       "      <td>0</td>\n",
       "    </tr>\n",
       "    <tr>\n",
       "      <th>4</th>\n",
       "      <td>5</td>\n",
       "      <td>15737888</td>\n",
       "      <td>Mitchell</td>\n",
       "      <td>850</td>\n",
       "      <td>Spain</td>\n",
       "      <td>Female</td>\n",
       "      <td>43</td>\n",
       "      <td>2</td>\n",
       "      <td>125510.82</td>\n",
       "      <td>1</td>\n",
       "      <td>1</td>\n",
       "      <td>1</td>\n",
       "      <td>79084.10</td>\n",
       "      <td>0</td>\n",
       "    </tr>\n",
       "  </tbody>\n",
       "</table>\n",
       "</div>"
      ],
      "text/plain": [
       "   RowNumber  CustomerId   Surname  CreditScore Geography  Gender  Age  \\\n",
       "0          1    15634602  Hargrave          619    France  Female   42   \n",
       "1          2    15647311      Hill          608     Spain  Female   41   \n",
       "2          3    15619304      Onio          502    France  Female   42   \n",
       "3          4    15701354      Boni          699    France  Female   39   \n",
       "4          5    15737888  Mitchell          850     Spain  Female   43   \n",
       "\n",
       "   Tenure    Balance  NumOfProducts  HasCrCard  IsActiveMember  \\\n",
       "0       2       0.00              1          1               1   \n",
       "1       1   83807.86              1          0               1   \n",
       "2       8  159660.80              3          1               0   \n",
       "3       1       0.00              2          0               0   \n",
       "4       2  125510.82              1          1               1   \n",
       "\n",
       "   EstimatedSalary  Exited  \n",
       "0        101348.88       1  \n",
       "1        112542.58       0  \n",
       "2        113931.57       1  \n",
       "3         93826.63       0  \n",
       "4         79084.10       0  "
      ]
     },
     "execution_count": 4,
     "metadata": {},
     "output_type": "execute_result"
    }
   ],
   "source": [
    "#import the dataset Churn_modelling.csv\n",
    "dataset=pd.read_csv(\"Churn_Modelling.csv\")\n",
    "\n",
    "dataset.head()"
   ]
  },
  {
   "cell_type": "code",
   "execution_count": 5,
   "id": "6b6856b1",
   "metadata": {},
   "outputs": [],
   "source": [
    "#divide the dataset into X DataFrame and y DataFrame\n",
    "# In X Dataframe ignore the columns like RowNumber,CustomerId,Surname and Exited\n",
    "# in y DataFrame take the output column like Exited\n",
    "X=dataset.iloc[:,3:13]\n",
    "y=dataset.iloc[:,13]"
   ]
  },
  {
   "cell_type": "code",
   "execution_count": 6,
   "id": "47b16d33",
   "metadata": {},
   "outputs": [],
   "source": [
    "#Create Dummy Variables for Geography and Gender and drop the first column\n",
    "geography=pd.get_dummies(X[\"Geography\"],drop_first=True)\n",
    "gender=pd.get_dummies(X[\"Gender\"],drop_first=True)\n"
   ]
  },
  {
   "cell_type": "code",
   "execution_count": 7,
   "id": "f283b81e",
   "metadata": {},
   "outputs": [],
   "source": [
    "#Concatenate the geography and gender to X-DataFrame \n",
    "X=pd.concat([X,geography,gender],axis=1)\n"
   ]
  },
  {
   "cell_type": "code",
   "execution_count": 8,
   "id": "bc5f6006",
   "metadata": {},
   "outputs": [],
   "source": [
    "#Delete the Geogryphy and Gender from X-DataFrame\n",
    "X=X.drop([\"Geography\",\"Gender\"],axis=1)\n"
   ]
  },
  {
   "cell_type": "code",
   "execution_count": 9,
   "id": "3ef81a23",
   "metadata": {},
   "outputs": [],
   "source": [
    "#Splitting the dataset into the Training set and Test set\n",
    "from sklearn.model_selection import train_test_split\n",
    "X_train,X_test,y_train,y_test=train_test_split(X,y,test_size=0.2,random_state=0)\n",
    "\n"
   ]
  },
  {
   "cell_type": "code",
   "execution_count": 10,
   "id": "60b63bf9",
   "metadata": {},
   "outputs": [],
   "source": [
    "#Implementing the Feature Scaling \n",
    "from sklearn.preprocessing import StandardScaler\n",
    "sc=StandardScaler()\n",
    "X_train=sc.fit_transform(X_train)\n",
    "X_test=sc.fit_transform(X_test)"
   ]
  },
  {
   "cell_type": "code",
   "execution_count": 11,
   "id": "5ecf44a8",
   "metadata": {},
   "outputs": [],
   "source": [
    "#Implementing the ANN by Keras\n",
    "#Import the Keras Libraries\n",
    "import keras\n",
    "from keras.models import Sequential\n",
    "from keras.layers import PReLU,LeakyReLU,PReLU,ELU\n",
    "from keras.layers import Dense\n",
    "from keras.layers import Dropout\n",
    "\n"
   ]
  },
  {
   "cell_type": "code",
   "execution_count": 12,
   "id": "1b80b60e",
   "metadata": {},
   "outputs": [],
   "source": [
    "#Initialising the ANN\n",
    "classifier=Sequential()\n"
   ]
  },
  {
   "cell_type": "code",
   "execution_count": 13,
   "id": "c1fb2864",
   "metadata": {},
   "outputs": [],
   "source": [
    "#Adding the first Hiden Layer along with the  inputLayer\n",
    "classifier.add(Dense(units=5,kernel_initializer='he_uniform',activation='relu',input_dim=11))"
   ]
  },
  {
   "cell_type": "code",
   "execution_count": 14,
   "id": "1cc855dc",
   "metadata": {},
   "outputs": [],
   "source": [
    "#Adding 2nd Hidden Layer\n",
    "classifier.add(Dense(units=5,kernel_initializer='he_uniform',activation='relu'))"
   ]
  },
  {
   "cell_type": "code",
   "execution_count": 15,
   "id": "29995928",
   "metadata": {},
   "outputs": [],
   "source": [
    "#Adding the Output Layer\n",
    "classifier.add(Dense(units=1,kernel_initializer='glorot_uniform',activation='sigmoid'))"
   ]
  },
  {
   "cell_type": "code",
   "execution_count": 16,
   "id": "53bc2f1c",
   "metadata": {},
   "outputs": [],
   "source": [
    "#Compilng the ANN\n",
    "classifier.compile(optimizer='adam',loss='binary_crossentropy',metrics=['accuracy'])"
   ]
  },
  {
   "cell_type": "code",
   "execution_count": 17,
   "id": "9cabb9e1",
   "metadata": {},
   "outputs": [
    {
     "name": "stdout",
     "output_type": "stream",
     "text": [
      "Epoch 1/130\n",
      "358/358 [==============================] - 1s 2ms/step - loss: 0.5927 - accuracy: 0.7819 - val_loss: 0.5347 - val_accuracy: 0.7955\n",
      "Epoch 2/130\n",
      "358/358 [==============================] - 1s 2ms/step - loss: 0.5033 - accuracy: 0.7962 - val_loss: 0.4931 - val_accuracy: 0.7955\n",
      "Epoch 3/130\n",
      "358/358 [==============================] - 1s 2ms/step - loss: 0.4724 - accuracy: 0.7960 - val_loss: 0.4696 - val_accuracy: 0.7967\n",
      "Epoch 4/130\n",
      "358/358 [==============================] - 1s 2ms/step - loss: 0.4544 - accuracy: 0.7987 - val_loss: 0.4546 - val_accuracy: 0.7993\n",
      "Epoch 5/130\n",
      "358/358 [==============================] - 1s 1ms/step - loss: 0.4415 - accuracy: 0.8016 - val_loss: 0.4454 - val_accuracy: 0.8005\n",
      "Epoch 6/130\n",
      "358/358 [==============================] - 1s 2ms/step - loss: 0.4338 - accuracy: 0.8028 - val_loss: 0.4377 - val_accuracy: 0.8046\n",
      "Epoch 7/130\n",
      "358/358 [==============================] - 1s 2ms/step - loss: 0.4280 - accuracy: 0.8059 - val_loss: 0.4330 - val_accuracy: 0.8092\n",
      "Epoch 8/130\n",
      "358/358 [==============================] - 0s 1ms/step - loss: 0.4238 - accuracy: 0.8057 - val_loss: 0.4300 - val_accuracy: 0.8111\n",
      "Epoch 9/130\n",
      "358/358 [==============================] - 1s 2ms/step - loss: 0.4206 - accuracy: 0.8104 - val_loss: 0.4274 - val_accuracy: 0.8145\n",
      "Epoch 10/130\n",
      "358/358 [==============================] - 1s 2ms/step - loss: 0.4172 - accuracy: 0.8127 - val_loss: 0.4260 - val_accuracy: 0.8126\n",
      "Epoch 11/130\n",
      "358/358 [==============================] - 1s 2ms/step - loss: 0.4146 - accuracy: 0.8162 - val_loss: 0.4242 - val_accuracy: 0.8133\n",
      "Epoch 12/130\n",
      "358/358 [==============================] - 1s 2ms/step - loss: 0.4120 - accuracy: 0.8177 - val_loss: 0.4221 - val_accuracy: 0.8145\n",
      "Epoch 13/130\n",
      "358/358 [==============================] - 1s 2ms/step - loss: 0.4096 - accuracy: 0.8220 - val_loss: 0.4201 - val_accuracy: 0.8160\n",
      "Epoch 14/130\n",
      "358/358 [==============================] - 1s 2ms/step - loss: 0.4076 - accuracy: 0.8216 - val_loss: 0.4185 - val_accuracy: 0.8183\n",
      "Epoch 15/130\n",
      "358/358 [==============================] - 1s 2ms/step - loss: 0.4054 - accuracy: 0.8242 - val_loss: 0.4168 - val_accuracy: 0.8205\n",
      "Epoch 16/130\n",
      "358/358 [==============================] - 1s 2ms/step - loss: 0.4033 - accuracy: 0.8263 - val_loss: 0.4154 - val_accuracy: 0.8224\n",
      "Epoch 17/130\n",
      "358/358 [==============================] - 1s 2ms/step - loss: 0.4016 - accuracy: 0.8266 - val_loss: 0.4134 - val_accuracy: 0.8232\n",
      "Epoch 18/130\n",
      "358/358 [==============================] - 1s 1ms/step - loss: 0.3994 - accuracy: 0.8296 - val_loss: 0.4122 - val_accuracy: 0.8228\n",
      "Epoch 19/130\n",
      "358/358 [==============================] - 1s 1ms/step - loss: 0.3974 - accuracy: 0.8311 - val_loss: 0.4109 - val_accuracy: 0.8236\n",
      "Epoch 20/130\n",
      "358/358 [==============================] - 1s 1ms/step - loss: 0.3963 - accuracy: 0.8313 - val_loss: 0.4097 - val_accuracy: 0.8239\n",
      "Epoch 21/130\n",
      "358/358 [==============================] - 1s 2ms/step - loss: 0.3943 - accuracy: 0.8317 - val_loss: 0.4088 - val_accuracy: 0.8243\n",
      "Epoch 22/130\n",
      "358/358 [==============================] - 1s 1ms/step - loss: 0.3935 - accuracy: 0.8324 - val_loss: 0.4074 - val_accuracy: 0.8251\n",
      "Epoch 23/130\n",
      "358/358 [==============================] - 1s 2ms/step - loss: 0.3919 - accuracy: 0.8330 - val_loss: 0.4061 - val_accuracy: 0.8251\n",
      "Epoch 24/130\n",
      "358/358 [==============================] - 1s 2ms/step - loss: 0.3904 - accuracy: 0.8341 - val_loss: 0.4044 - val_accuracy: 0.8243\n",
      "Epoch 25/130\n",
      "358/358 [==============================] - 1s 2ms/step - loss: 0.3892 - accuracy: 0.8352 - val_loss: 0.4033 - val_accuracy: 0.8247\n",
      "Epoch 26/130\n",
      "358/358 [==============================] - 1s 1ms/step - loss: 0.3876 - accuracy: 0.8332 - val_loss: 0.4022 - val_accuracy: 0.8254\n",
      "Epoch 27/130\n",
      "358/358 [==============================] - 0s 1ms/step - loss: 0.3863 - accuracy: 0.8349 - val_loss: 0.4003 - val_accuracy: 0.8258\n",
      "Epoch 28/130\n",
      "358/358 [==============================] - 1s 2ms/step - loss: 0.3847 - accuracy: 0.8352 - val_loss: 0.3991 - val_accuracy: 0.8266\n",
      "Epoch 29/130\n",
      "358/358 [==============================] - 1s 2ms/step - loss: 0.3826 - accuracy: 0.8352 - val_loss: 0.3975 - val_accuracy: 0.8270\n",
      "Epoch 30/130\n",
      "358/358 [==============================] - 1s 2ms/step - loss: 0.3807 - accuracy: 0.8364 - val_loss: 0.3957 - val_accuracy: 0.8281\n",
      "Epoch 31/130\n",
      "358/358 [==============================] - 1s 2ms/step - loss: 0.3791 - accuracy: 0.8401 - val_loss: 0.3939 - val_accuracy: 0.8342\n",
      "Epoch 32/130\n",
      "358/358 [==============================] - 1s 2ms/step - loss: 0.3768 - accuracy: 0.8408 - val_loss: 0.3912 - val_accuracy: 0.8338\n",
      "Epoch 33/130\n",
      "358/358 [==============================] - 1s 2ms/step - loss: 0.3748 - accuracy: 0.8438 - val_loss: 0.3900 - val_accuracy: 0.8349\n",
      "Epoch 34/130\n",
      "358/358 [==============================] - 1s 2ms/step - loss: 0.3725 - accuracy: 0.8436 - val_loss: 0.3886 - val_accuracy: 0.8410\n",
      "Epoch 35/130\n",
      "358/358 [==============================] - 1s 2ms/step - loss: 0.3705 - accuracy: 0.8468 - val_loss: 0.3864 - val_accuracy: 0.8413\n",
      "Epoch 36/130\n",
      "358/358 [==============================] - 1s 2ms/step - loss: 0.3684 - accuracy: 0.8474 - val_loss: 0.3842 - val_accuracy: 0.8417\n",
      "Epoch 37/130\n",
      "358/358 [==============================] - 1s 2ms/step - loss: 0.3663 - accuracy: 0.8498 - val_loss: 0.3828 - val_accuracy: 0.8421\n",
      "Epoch 38/130\n",
      "358/358 [==============================] - 1s 2ms/step - loss: 0.3638 - accuracy: 0.8515 - val_loss: 0.3807 - val_accuracy: 0.8417\n",
      "Epoch 39/130\n",
      "358/358 [==============================] - 1s 1ms/step - loss: 0.3618 - accuracy: 0.8530 - val_loss: 0.3778 - val_accuracy: 0.8429\n",
      "Epoch 40/130\n",
      "358/358 [==============================] - 1s 1ms/step - loss: 0.3596 - accuracy: 0.8531 - val_loss: 0.3752 - val_accuracy: 0.8451\n",
      "Epoch 41/130\n",
      "358/358 [==============================] - 1s 1ms/step - loss: 0.3575 - accuracy: 0.8548 - val_loss: 0.3735 - val_accuracy: 0.8470\n",
      "Epoch 42/130\n",
      "358/358 [==============================] - 1s 1ms/step - loss: 0.3552 - accuracy: 0.8571 - val_loss: 0.3713 - val_accuracy: 0.8478\n",
      "Epoch 43/130\n",
      "358/358 [==============================] - 1s 1ms/step - loss: 0.3532 - accuracy: 0.8580 - val_loss: 0.3702 - val_accuracy: 0.8485\n",
      "Epoch 44/130\n",
      "358/358 [==============================] - 1s 1ms/step - loss: 0.3515 - accuracy: 0.8593 - val_loss: 0.3671 - val_accuracy: 0.8493\n",
      "Epoch 45/130\n",
      "358/358 [==============================] - 1s 1ms/step - loss: 0.3501 - accuracy: 0.8619 - val_loss: 0.3666 - val_accuracy: 0.8482\n",
      "Epoch 46/130\n",
      "358/358 [==============================] - 1s 1ms/step - loss: 0.3484 - accuracy: 0.8604 - val_loss: 0.3660 - val_accuracy: 0.8489\n",
      "Epoch 47/130\n",
      "358/358 [==============================] - 1s 1ms/step - loss: 0.3476 - accuracy: 0.8610 - val_loss: 0.3651 - val_accuracy: 0.8485\n",
      "Epoch 48/130\n",
      "358/358 [==============================] - 1s 1ms/step - loss: 0.3466 - accuracy: 0.8604 - val_loss: 0.3638 - val_accuracy: 0.8489\n",
      "Epoch 49/130\n",
      "358/358 [==============================] - 1s 1ms/step - loss: 0.3458 - accuracy: 0.8610 - val_loss: 0.3630 - val_accuracy: 0.8519\n",
      "Epoch 50/130\n",
      "358/358 [==============================] - 1s 1ms/step - loss: 0.3456 - accuracy: 0.8604 - val_loss: 0.3621 - val_accuracy: 0.8527\n",
      "Epoch 51/130\n",
      "358/358 [==============================] - 1s 1ms/step - loss: 0.3447 - accuracy: 0.8623 - val_loss: 0.3626 - val_accuracy: 0.8531\n",
      "Epoch 52/130\n",
      "358/358 [==============================] - 1s 1ms/step - loss: 0.3442 - accuracy: 0.8630 - val_loss: 0.3620 - val_accuracy: 0.8546\n",
      "Epoch 53/130\n",
      "358/358 [==============================] - 1s 1ms/step - loss: 0.3436 - accuracy: 0.8621 - val_loss: 0.3615 - val_accuracy: 0.8554\n",
      "Epoch 54/130\n",
      "358/358 [==============================] - 1s 1ms/step - loss: 0.3428 - accuracy: 0.8619 - val_loss: 0.3617 - val_accuracy: 0.8531\n",
      "Epoch 55/130\n",
      "358/358 [==============================] - 1s 1ms/step - loss: 0.3429 - accuracy: 0.8602 - val_loss: 0.3610 - val_accuracy: 0.8538\n",
      "Epoch 56/130\n",
      "358/358 [==============================] - 1s 2ms/step - loss: 0.3424 - accuracy: 0.8627 - val_loss: 0.3601 - val_accuracy: 0.8550\n",
      "Epoch 57/130\n",
      "358/358 [==============================] - 1s 2ms/step - loss: 0.3420 - accuracy: 0.8608 - val_loss: 0.3587 - val_accuracy: 0.8554\n"
     ]
    },
    {
     "name": "stdout",
     "output_type": "stream",
     "text": [
      "Epoch 58/130\n",
      "358/358 [==============================] - 1s 1ms/step - loss: 0.3416 - accuracy: 0.8621 - val_loss: 0.3595 - val_accuracy: 0.8531\n",
      "Epoch 59/130\n",
      "358/358 [==============================] - 1s 1ms/step - loss: 0.3414 - accuracy: 0.8610 - val_loss: 0.3589 - val_accuracy: 0.8565\n",
      "Epoch 60/130\n",
      "358/358 [==============================] - 1s 2ms/step - loss: 0.3413 - accuracy: 0.8600 - val_loss: 0.3591 - val_accuracy: 0.8588\n",
      "Epoch 61/130\n",
      "358/358 [==============================] - 1s 2ms/step - loss: 0.3407 - accuracy: 0.8625 - val_loss: 0.3585 - val_accuracy: 0.8561\n",
      "Epoch 62/130\n",
      "358/358 [==============================] - 1s 2ms/step - loss: 0.3402 - accuracy: 0.8623 - val_loss: 0.3587 - val_accuracy: 0.8550\n",
      "Epoch 63/130\n",
      "358/358 [==============================] - 1s 2ms/step - loss: 0.3401 - accuracy: 0.8628 - val_loss: 0.3573 - val_accuracy: 0.8569\n",
      "Epoch 64/130\n",
      "358/358 [==============================] - 1s 2ms/step - loss: 0.3400 - accuracy: 0.8640 - val_loss: 0.3576 - val_accuracy: 0.8569\n",
      "Epoch 65/130\n",
      "358/358 [==============================] - 1s 2ms/step - loss: 0.3395 - accuracy: 0.8627 - val_loss: 0.3561 - val_accuracy: 0.8588\n",
      "Epoch 66/130\n",
      "358/358 [==============================] - 1s 2ms/step - loss: 0.3393 - accuracy: 0.8638 - val_loss: 0.3572 - val_accuracy: 0.8584\n",
      "Epoch 67/130\n",
      "358/358 [==============================] - 1s 2ms/step - loss: 0.3389 - accuracy: 0.8628 - val_loss: 0.3570 - val_accuracy: 0.8573\n",
      "Epoch 68/130\n",
      "358/358 [==============================] - 1s 1ms/step - loss: 0.3388 - accuracy: 0.8619 - val_loss: 0.3575 - val_accuracy: 0.8550\n",
      "Epoch 69/130\n",
      "358/358 [==============================] - 1s 2ms/step - loss: 0.3386 - accuracy: 0.8627 - val_loss: 0.3564 - val_accuracy: 0.8550\n",
      "Epoch 70/130\n",
      "358/358 [==============================] - 1s 1ms/step - loss: 0.3380 - accuracy: 0.8664 - val_loss: 0.3587 - val_accuracy: 0.8561\n",
      "Epoch 71/130\n",
      "358/358 [==============================] - 1s 2ms/step - loss: 0.3382 - accuracy: 0.8632 - val_loss: 0.3561 - val_accuracy: 0.8554\n",
      "Epoch 72/130\n",
      "358/358 [==============================] - 1s 2ms/step - loss: 0.3383 - accuracy: 0.8623 - val_loss: 0.3567 - val_accuracy: 0.8542\n",
      "Epoch 73/130\n",
      "358/358 [==============================] - 1s 2ms/step - loss: 0.3379 - accuracy: 0.8634 - val_loss: 0.3570 - val_accuracy: 0.8535\n",
      "Epoch 74/130\n",
      "358/358 [==============================] - 1s 2ms/step - loss: 0.3375 - accuracy: 0.8638 - val_loss: 0.3563 - val_accuracy: 0.8554\n",
      "Epoch 75/130\n",
      "358/358 [==============================] - 1s 2ms/step - loss: 0.3376 - accuracy: 0.8636 - val_loss: 0.3580 - val_accuracy: 0.8569\n",
      "Epoch 76/130\n",
      "358/358 [==============================] - 1s 2ms/step - loss: 0.3376 - accuracy: 0.8656 - val_loss: 0.3566 - val_accuracy: 0.8550\n",
      "Epoch 77/130\n",
      "358/358 [==============================] - 1s 2ms/step - loss: 0.3376 - accuracy: 0.8630 - val_loss: 0.3566 - val_accuracy: 0.8557\n",
      "Epoch 78/130\n",
      "358/358 [==============================] - 1s 2ms/step - loss: 0.3373 - accuracy: 0.8634 - val_loss: 0.3571 - val_accuracy: 0.8546\n",
      "Epoch 79/130\n",
      "358/358 [==============================] - 1s 2ms/step - loss: 0.3368 - accuracy: 0.8630 - val_loss: 0.3556 - val_accuracy: 0.8550\n",
      "Epoch 80/130\n",
      "358/358 [==============================] - 1s 2ms/step - loss: 0.3369 - accuracy: 0.8642 - val_loss: 0.3571 - val_accuracy: 0.8569\n",
      "Epoch 81/130\n",
      "358/358 [==============================] - 1s 2ms/step - loss: 0.3368 - accuracy: 0.8640 - val_loss: 0.3569 - val_accuracy: 0.8542\n",
      "Epoch 82/130\n",
      "358/358 [==============================] - 1s 1ms/step - loss: 0.3366 - accuracy: 0.8645 - val_loss: 0.3567 - val_accuracy: 0.8565\n",
      "Epoch 83/130\n",
      "358/358 [==============================] - 0s 1ms/step - loss: 0.3364 - accuracy: 0.8634 - val_loss: 0.3563 - val_accuracy: 0.8565\n",
      "Epoch 84/130\n",
      "358/358 [==============================] - 1s 2ms/step - loss: 0.3367 - accuracy: 0.8655 - val_loss: 0.3567 - val_accuracy: 0.8569\n",
      "Epoch 85/130\n",
      "358/358 [==============================] - 1s 2ms/step - loss: 0.3364 - accuracy: 0.8651 - val_loss: 0.3573 - val_accuracy: 0.8565\n",
      "Epoch 86/130\n",
      "358/358 [==============================] - 1s 2ms/step - loss: 0.3362 - accuracy: 0.8642 - val_loss: 0.3560 - val_accuracy: 0.8576\n",
      "Epoch 87/130\n",
      "358/358 [==============================] - 1s 2ms/step - loss: 0.3357 - accuracy: 0.8645 - val_loss: 0.3562 - val_accuracy: 0.8561\n",
      "Epoch 88/130\n",
      "358/358 [==============================] - 1s 1ms/step - loss: 0.3360 - accuracy: 0.8638 - val_loss: 0.3560 - val_accuracy: 0.8569\n",
      "Epoch 89/130\n",
      "358/358 [==============================] - 1s 2ms/step - loss: 0.3357 - accuracy: 0.8642 - val_loss: 0.3552 - val_accuracy: 0.8580\n",
      "Epoch 90/130\n",
      "358/358 [==============================] - 1s 2ms/step - loss: 0.3356 - accuracy: 0.8647 - val_loss: 0.3558 - val_accuracy: 0.8580\n",
      "Epoch 91/130\n",
      "358/358 [==============================] - 1s 2ms/step - loss: 0.3355 - accuracy: 0.8630 - val_loss: 0.3552 - val_accuracy: 0.8580\n",
      "Epoch 92/130\n",
      "358/358 [==============================] - 1s 2ms/step - loss: 0.3354 - accuracy: 0.8645 - val_loss: 0.3559 - val_accuracy: 0.8580\n",
      "Epoch 93/130\n",
      "358/358 [==============================] - 1s 2ms/step - loss: 0.3354 - accuracy: 0.8645 - val_loss: 0.3558 - val_accuracy: 0.8580\n",
      "Epoch 94/130\n",
      "358/358 [==============================] - 1s 2ms/step - loss: 0.3350 - accuracy: 0.8647 - val_loss: 0.3565 - val_accuracy: 0.8580\n",
      "Epoch 95/130\n",
      "358/358 [==============================] - 1s 2ms/step - loss: 0.3350 - accuracy: 0.8636 - val_loss: 0.3557 - val_accuracy: 0.8580\n",
      "Epoch 96/130\n",
      "358/358 [==============================] - 1s 2ms/step - loss: 0.3343 - accuracy: 0.8642 - val_loss: 0.3573 - val_accuracy: 0.8565\n",
      "Epoch 97/130\n",
      "358/358 [==============================] - 1s 2ms/step - loss: 0.3344 - accuracy: 0.8628 - val_loss: 0.3568 - val_accuracy: 0.8561\n",
      "Epoch 98/130\n",
      "358/358 [==============================] - 1s 2ms/step - loss: 0.3342 - accuracy: 0.8642 - val_loss: 0.3554 - val_accuracy: 0.8591\n",
      "Epoch 99/130\n",
      "358/358 [==============================] - 1s 2ms/step - loss: 0.3342 - accuracy: 0.8642 - val_loss: 0.3560 - val_accuracy: 0.8588\n",
      "Epoch 100/130\n",
      "358/358 [==============================] - 1s 2ms/step - loss: 0.3339 - accuracy: 0.8649 - val_loss: 0.3555 - val_accuracy: 0.8569\n",
      "Epoch 101/130\n",
      "358/358 [==============================] - 1s 2ms/step - loss: 0.3341 - accuracy: 0.8642 - val_loss: 0.3563 - val_accuracy: 0.8576\n",
      "Epoch 102/130\n",
      "358/358 [==============================] - 1s 2ms/step - loss: 0.3340 - accuracy: 0.8630 - val_loss: 0.3556 - val_accuracy: 0.8576\n",
      "Epoch 103/130\n",
      "358/358 [==============================] - 1s 2ms/step - loss: 0.3337 - accuracy: 0.8649 - val_loss: 0.3558 - val_accuracy: 0.8569\n",
      "Epoch 104/130\n",
      "358/358 [==============================] - 1s 2ms/step - loss: 0.3334 - accuracy: 0.8645 - val_loss: 0.3566 - val_accuracy: 0.8580\n",
      "Epoch 105/130\n",
      "358/358 [==============================] - 1s 2ms/step - loss: 0.3334 - accuracy: 0.8640 - val_loss: 0.3553 - val_accuracy: 0.8565\n",
      "Epoch 106/130\n",
      "358/358 [==============================] - 1s 2ms/step - loss: 0.3331 - accuracy: 0.8649 - val_loss: 0.3565 - val_accuracy: 0.8565\n",
      "Epoch 107/130\n",
      "358/358 [==============================] - 1s 2ms/step - loss: 0.3334 - accuracy: 0.8640 - val_loss: 0.3549 - val_accuracy: 0.8595\n",
      "Epoch 108/130\n",
      "358/358 [==============================] - 1s 2ms/step - loss: 0.3331 - accuracy: 0.8636 - val_loss: 0.3558 - val_accuracy: 0.8584\n",
      "Epoch 109/130\n",
      "358/358 [==============================] - 1s 2ms/step - loss: 0.3330 - accuracy: 0.8642 - val_loss: 0.3557 - val_accuracy: 0.8576\n",
      "Epoch 110/130\n",
      "358/358 [==============================] - 1s 2ms/step - loss: 0.3327 - accuracy: 0.8649 - val_loss: 0.3567 - val_accuracy: 0.8565\n",
      "Epoch 111/130\n",
      "358/358 [==============================] - 1s 2ms/step - loss: 0.3330 - accuracy: 0.8647 - val_loss: 0.3559 - val_accuracy: 0.8580\n",
      "Epoch 112/130\n",
      "358/358 [==============================] - 1s 2ms/step - loss: 0.3330 - accuracy: 0.8632 - val_loss: 0.3551 - val_accuracy: 0.8580\n",
      "Epoch 113/130\n",
      "358/358 [==============================] - 1s 2ms/step - loss: 0.3327 - accuracy: 0.8640 - val_loss: 0.3551 - val_accuracy: 0.8584\n",
      "Epoch 114/130\n",
      "358/358 [==============================] - 1s 2ms/step - loss: 0.3328 - accuracy: 0.8643 - val_loss: 0.3570 - val_accuracy: 0.8576\n"
     ]
    },
    {
     "name": "stdout",
     "output_type": "stream",
     "text": [
      "Epoch 115/130\n",
      "358/358 [==============================] - 1s 2ms/step - loss: 0.3326 - accuracy: 0.8630 - val_loss: 0.3553 - val_accuracy: 0.8573\n",
      "Epoch 116/130\n",
      "358/358 [==============================] - 1s 2ms/step - loss: 0.3328 - accuracy: 0.8651 - val_loss: 0.3551 - val_accuracy: 0.8573\n",
      "Epoch 117/130\n",
      "358/358 [==============================] - 1s 2ms/step - loss: 0.3322 - accuracy: 0.8653 - val_loss: 0.3560 - val_accuracy: 0.8546\n",
      "Epoch 118/130\n",
      "358/358 [==============================] - 1s 1ms/step - loss: 0.3328 - accuracy: 0.8653 - val_loss: 0.3547 - val_accuracy: 0.8580\n",
      "Epoch 119/130\n",
      "358/358 [==============================] - 1s 2ms/step - loss: 0.3323 - accuracy: 0.8649 - val_loss: 0.3541 - val_accuracy: 0.8599\n",
      "Epoch 120/130\n",
      "358/358 [==============================] - 1s 2ms/step - loss: 0.3323 - accuracy: 0.8668 - val_loss: 0.3550 - val_accuracy: 0.8580\n",
      "Epoch 121/130\n",
      "358/358 [==============================] - 1s 2ms/step - loss: 0.3325 - accuracy: 0.8655 - val_loss: 0.3542 - val_accuracy: 0.8569\n",
      "Epoch 122/130\n",
      "358/358 [==============================] - 1s 1ms/step - loss: 0.3322 - accuracy: 0.8651 - val_loss: 0.3557 - val_accuracy: 0.8565\n",
      "Epoch 123/130\n",
      "358/358 [==============================] - 1s 2ms/step - loss: 0.3319 - accuracy: 0.8642 - val_loss: 0.3549 - val_accuracy: 0.8576\n",
      "Epoch 124/130\n",
      "358/358 [==============================] - 1s 2ms/step - loss: 0.3319 - accuracy: 0.8660 - val_loss: 0.3550 - val_accuracy: 0.8591\n",
      "Epoch 125/130\n",
      "358/358 [==============================] - 1s 1ms/step - loss: 0.3319 - accuracy: 0.8649 - val_loss: 0.3549 - val_accuracy: 0.8580\n",
      "Epoch 126/130\n",
      "358/358 [==============================] - 1s 2ms/step - loss: 0.3314 - accuracy: 0.8634 - val_loss: 0.3552 - val_accuracy: 0.8573\n",
      "Epoch 127/130\n",
      "358/358 [==============================] - 1s 2ms/step - loss: 0.3316 - accuracy: 0.8647 - val_loss: 0.3545 - val_accuracy: 0.8588\n",
      "Epoch 128/130\n",
      "358/358 [==============================] - 1s 2ms/step - loss: 0.3313 - accuracy: 0.8658 - val_loss: 0.3536 - val_accuracy: 0.8561\n",
      "Epoch 129/130\n",
      "358/358 [==============================] - 1s 2ms/step - loss: 0.3313 - accuracy: 0.8651 - val_loss: 0.3548 - val_accuracy: 0.8599\n",
      "Epoch 130/130\n",
      "358/358 [==============================] - 1s 1ms/step - loss: 0.3311 - accuracy: 0.8653 - val_loss: 0.3541 - val_accuracy: 0.8599\n"
     ]
    }
   ],
   "source": [
    "#Fitting the ANN to the Training set\n",
    "model_history=classifier.fit(X_train,y_train,validation_split=0.33, batch_size=15,epochs=130)"
   ]
  },
  {
   "cell_type": "code",
   "execution_count": 18,
   "id": "8f153960",
   "metadata": {},
   "outputs": [
    {
     "name": "stdout",
     "output_type": "stream",
     "text": [
      "dict_keys(['loss', 'accuracy', 'val_loss', 'val_accuracy'])\n"
     ]
    }
   ],
   "source": [
    "#list all data in history\n",
    "print(model_history.history.keys())"
   ]
  },
  {
   "cell_type": "code",
   "execution_count": 19,
   "id": "7d8470ae",
   "metadata": {},
   "outputs": [
    {
     "data": {
      "image/png": "[encoded data removed]",
      "text/plain": [
       "<Figure size 432x288 with 1 Axes>"
      ]
     },
     "metadata": {
      "needs_background": "light"
     },
     "output_type": "display_data"
    }
   ],
   "source": [
    "plt.plot(model_history.history['accuracy'])\n",
    "plt.plot(model_history.history['val_accuracy'])\n",
    "plt.title(\"Model Accuracy\")\n",
    "plt.ylabel(\"accuracy\")\n",
    "plt.xlabel(\"epochs\")\n",
    "plt.legend([\"train\",'test'],loc='upper left')\n",
    "plt.show()"
   ]
  },
  {
   "cell_type": "code",
   "execution_count": 20,
   "id": "78251a18",
   "metadata": {},
   "outputs": [
    {
     "data": {
      "image/png": "[encoded data removed]",
      "text/plain": [
       "<Figure size 432x288 with 1 Axes>"
      ]
     },
     "metadata": {
      "needs_background": "light"
     },
     "output_type": "display_data"
    }
   ],
   "source": [
    "# summarize history for loss\n",
    "plt.plot(model_history.history['loss'])\n",
    "plt.plot(model_history.history['val_loss'])\n",
    "plt.title('model loss')\n",
    "plt.ylabel('loss')\n",
    "plt.xlabel('epoch')\n",
    "plt.legend(['train', 'test'], loc='upper left')\n",
    "plt.show()"
   ]
  },
  {
   "cell_type": "code",
   "execution_count": 21,
   "id": "c220b760",
   "metadata": {},
   "outputs": [
    {
     "name": "stdout",
     "output_type": "stream",
     "text": [
      "[[False]\n",
      " [False]\n",
      " [False]\n",
      " ...\n",
      " [False]\n",
      " [False]\n",
      " [False]]\n"
     ]
    }
   ],
   "source": [
    "# Part 3 - Making the predictions and evaluating the model\n",
    "\n",
    "# Predicting the Test set results\n",
    "y_pred = classifier.predict(X_test)\n",
    "y_pred = (y_pred > 0.5)\n",
    "\n",
    "print(y_pred)"
   ]
  },
  {
   "cell_type": "code",
   "execution_count": 22,
   "id": "ace039e5",
   "metadata": {},
   "outputs": [
    {
     "name": "stdout",
     "output_type": "stream",
     "text": [
      "[[1524   71]\n",
      " [ 215  190]]\n",
      "0.857\n"
     ]
    }
   ],
   "source": [
    "# Making the Confusion Matrix\n",
    "from sklearn.metrics import confusion_matrix\n",
    "cm = confusion_matrix(y_test, y_pred)\n",
    "\n",
    "print(cm)\n",
    "# Calculate the Accuracy\n",
    "from sklearn.metrics import accuracy_score\n",
    "score=accuracy_score(y_pred,y_test)\n",
    "\n",
    "print(score)"
   ]
  },
  {
   "cell_type": "code",
   "execution_count": 23,
   "id": "f260c5da",
   "metadata": {},
   "outputs": [
    {
     "name": "stdout",
     "output_type": "stream",
     "text": [
      "              precision    recall  f1-score   support\n",
      "\n",
      "           0       0.88      0.96      0.91      1595\n",
      "           1       0.73      0.47      0.57       405\n",
      "\n",
      "    accuracy                           0.86      2000\n",
      "   macro avg       0.80      0.71      0.74      2000\n",
      "weighted avg       0.85      0.86      0.84      2000\n",
      "\n"
     ]
    }
   ],
   "source": [
    "#find the classification Report\n",
    "from sklearn.metrics import classification_report\n",
    "print(classification_report(y_test, y_pred))"
   ]
  },
  {
   "cell_type": "code",
   "execution_count": null,
   "id": "a3c3c33e",
   "metadata": {},
   "outputs": [],
   "source": []
  }
 ],
 "metadata": {
  "kernelspec": {
   "display_name": "Python 3 (ipykernel)",
   "language": "python",
   "name": "python3"
  },
  "language_info": {
   "codemirror_mode": {
    "name": "ipython",
    "version": 3
   },
   "file_extension": ".py",
   "mimetype": "text/x-python",
   "name": "python",
   "nbconvert_exporter": "python",
   "pygments_lexer": "ipython3",
   "version": "3.9.7"
  },
  "toc": {
   "base_numbering": 1,
   "nav_menu": {},
   "number_sections": true,
   "sideBar": true,
   "skip_h1_title": false,
   "title_cell": "Table of Contents",
   "title_sidebar": "Contents",
   "toc_cell": false,
   "toc_position": {},
   "toc_section_display": true,
   "toc_window_display": false
  }
 },
 "nbformat": 4,
 "nbformat_minor": 5
}
