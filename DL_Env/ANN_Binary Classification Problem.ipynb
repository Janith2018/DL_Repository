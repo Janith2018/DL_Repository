{
 "cells": [
  {
   "cell_type": "code",
   "execution_count": 1,
   "id": "cbcea7d1",
   "metadata": {},
   "outputs": [],
   "source": [
    "import numpy as np\n",
    "import matplotlib.pyplot as plt\n",
    "import pandas as pd "
   ]
  },
  {
   "cell_type": "code",
   "execution_count": 2,
   "id": "ba6fe828",
   "metadata": {},
   "outputs": [
    {
     "data": {
      "text/html": [
       "<div>\n",
       "<style scoped>\n",
       "    .dataframe tbody tr th:only-of-type {\n",
       "        vertical-align: middle;\n",
       "    }\n",
       "\n",
       "    .dataframe tbody tr th {\n",
       "        vertical-align: top;\n",
       "    }\n",
       "\n",
       "    .dataframe thead th {\n",
       "        text-align: right;\n",
       "    }\n",
       "</style>\n",
       "<table border=\"1\" class=\"dataframe\">\n",
       "  <thead>\n",
       "    <tr style=\"text-align: right;\">\n",
       "      <th></th>\n",
       "      <th>RowNumber</th>\n",
       "      <th>CustomerId</th>\n",
       "      <th>Surname</th>\n",
       "      <th>CreditScore</th>\n",
       "      <th>Geography</th>\n",
       "      <th>Gender</th>\n",
       "      <th>Age</th>\n",
       "      <th>Tenure</th>\n",
       "      <th>Balance</th>\n",
       "      <th>NumOfProducts</th>\n",
       "      <th>HasCrCard</th>\n",
       "      <th>IsActiveMember</th>\n",
       "      <th>EstimatedSalary</th>\n",
       "      <th>Exited</th>\n",
       "    </tr>\n",
       "  </thead>\n",
       "  <tbody>\n",
       "    <tr>\n",
       "      <th>0</th>\n",
       "      <td>1</td>\n",
       "      <td>15634602</td>\n",
       "      <td>Hargrave</td>\n",
       "      <td>619</td>\n",
       "      <td>France</td>\n",
       "      <td>Female</td>\n",
       "      <td>42</td>\n",
       "      <td>2</td>\n",
       "      <td>0.00</td>\n",
       "      <td>1</td>\n",
       "      <td>1</td>\n",
       "      <td>1</td>\n",
       "      <td>101348.88</td>\n",
       "      <td>1</td>\n",
       "    </tr>\n",
       "    <tr>\n",
       "      <th>1</th>\n",
       "      <td>2</td>\n",
       "      <td>15647311</td>\n",
       "      <td>Hill</td>\n",
       "      <td>608</td>\n",
       "      <td>Spain</td>\n",
       "      <td>Female</td>\n",
       "      <td>41</td>\n",
       "      <td>1</td>\n",
       "      <td>83807.86</td>\n",
       "      <td>1</td>\n",
       "      <td>0</td>\n",
       "      <td>1</td>\n",
       "      <td>112542.58</td>\n",
       "      <td>0</td>\n",
       "    </tr>\n",
       "    <tr>\n",
       "      <th>2</th>\n",
       "      <td>3</td>\n",
       "      <td>15619304</td>\n",
       "      <td>Onio</td>\n",
       "      <td>502</td>\n",
       "      <td>France</td>\n",
       "      <td>Female</td>\n",
       "      <td>42</td>\n",
       "      <td>8</td>\n",
       "      <td>159660.80</td>\n",
       "      <td>3</td>\n",
       "      <td>1</td>\n",
       "      <td>0</td>\n",
       "      <td>113931.57</td>\n",
       "      <td>1</td>\n",
       "    </tr>\n",
       "    <tr>\n",
       "      <th>3</th>\n",
       "      <td>4</td>\n",
       "      <td>15701354</td>\n",
       "      <td>Boni</td>\n",
       "      <td>699</td>\n",
       "      <td>France</td>\n",
       "      <td>Female</td>\n",
       "      <td>39</td>\n",
       "      <td>1</td>\n",
       "      <td>0.00</td>\n",
       "      <td>2</td>\n",
       "      <td>0</td>\n",
       "      <td>0</td>\n",
       "      <td>93826.63</td>\n",
       "      <td>0</td>\n",
       "    </tr>\n",
       "    <tr>\n",
       "      <th>4</th>\n",
       "      <td>5</td>\n",
       "      <td>15737888</td>\n",
       "      <td>Mitchell</td>\n",
       "      <td>850</td>\n",
       "      <td>Spain</td>\n",
       "      <td>Female</td>\n",
       "      <td>43</td>\n",
       "      <td>2</td>\n",
       "      <td>125510.82</td>\n",
       "      <td>1</td>\n",
       "      <td>1</td>\n",
       "      <td>1</td>\n",
       "      <td>79084.10</td>\n",
       "      <td>0</td>\n",
       "    </tr>\n",
       "  </tbody>\n",
       "</table>\n",
       "</div>"
      ],
      "text/plain": [
       "   RowNumber  CustomerId   Surname  CreditScore Geography  Gender  Age  \\\n",
       "0          1    15634602  Hargrave          619    France  Female   42   \n",
       "1          2    15647311      Hill          608     Spain  Female   41   \n",
       "2          3    15619304      Onio          502    France  Female   42   \n",
       "3          4    15701354      Boni          699    France  Female   39   \n",
       "4          5    15737888  Mitchell          850     Spain  Female   43   \n",
       "\n",
       "   Tenure    Balance  NumOfProducts  HasCrCard  IsActiveMember  \\\n",
       "0       2       0.00              1          1               1   \n",
       "1       1   83807.86              1          0               1   \n",
       "2       8  159660.80              3          1               0   \n",
       "3       1       0.00              2          0               0   \n",
       "4       2  125510.82              1          1               1   \n",
       "\n",
       "   EstimatedSalary  Exited  \n",
       "0        101348.88       1  \n",
       "1        112542.58       0  \n",
       "2        113931.57       1  \n",
       "3         93826.63       0  \n",
       "4         79084.10       0  "
      ]
     },
     "execution_count": 2,
     "metadata": {},
     "output_type": "execute_result"
    }
   ],
   "source": [
    "#import the dataset Churn_modelling.csv\n",
    "dataset=pd.read_csv(\"Churn_Modelling.csv\")\n",
    "\n",
    "dataset.head()"
   ]
  },
  {
   "cell_type": "code",
   "execution_count": 3,
   "id": "6b6856b1",
   "metadata": {},
   "outputs": [],
   "source": [
    "#divide the dataset into X DataFrame and y DataFrame\n",
    "# In X Dataframe ignore the columns like RowNumber,CustomerId,Surname and Exited\n",
    "# in y DataFrame take the output column like Exited\n",
    "X=dataset.iloc[:,3:13]\n",
    "y=dataset.iloc[:,13]"
   ]
  },
  {
   "cell_type": "code",
   "execution_count": 4,
   "id": "47b16d33",
   "metadata": {},
   "outputs": [],
   "source": [
    "#Create Dummy Variables for Geography and Gender and drop the first column\n",
    "geography=pd.get_dummies(X[\"Geography\"],drop_first=True)\n",
    "gender=pd.get_dummies(X[\"Gender\"],drop_first=True)\n"
   ]
  },
  {
   "cell_type": "code",
   "execution_count": 5,
   "id": "f283b81e",
   "metadata": {},
   "outputs": [],
   "source": [
    "#Concatenate the geography and gender to X-DataFrame \n",
    "X=pd.concat([X,geography,gender],axis=1)\n"
   ]
  },
  {
   "cell_type": "code",
   "execution_count": 6,
   "id": "bc5f6006",
   "metadata": {},
   "outputs": [],
   "source": [
    "#Delete the Geogryphy and Gender from X-DataFrame\n",
    "X=X.drop([\"Geography\",\"Gender\"],axis=1)\n"
   ]
  },
  {
   "cell_type": "code",
   "execution_count": 8,
   "id": "3ef81a23",
   "metadata": {},
   "outputs": [],
   "source": [
    "#Splitting the dataset into the Training set and Test set\n",
    "from sklearn.model_selection import train_test_split\n",
    "X_train,X_test,y_train,y_test=train_test_split(X,y,test_size=0.2,random_state=0)\n",
    "\n"
   ]
  },
  {
   "cell_type": "code",
   "execution_count": 9,
   "id": "60b63bf9",
   "metadata": {},
   "outputs": [],
   "source": [
    "#Implementing the Feature Scaling \n",
    "from sklearn.preprocessing import StandardScaler\n",
    "sc=StandardScaler()\n",
    "X_train=sc.fit_transform(X_train)\n",
    "X_test=sc.fit_transform(X_test)"
   ]
  },
  {
   "cell_type": "code",
   "execution_count": 11,
   "id": "5ecf44a8",
   "metadata": {},
   "outputs": [],
   "source": [
    "#Implementing the ANN by Keras\n",
    "#Import the Keras Libraries\n",
    "import keras\n",
    "from keras.models import Sequential\n",
    "from keras.layers import PReLU,LeakyReLU,PReLU,ELU\n",
    "from keras.layers import Dense\n",
    "from keras.layers import Dropout\n",
    "\n"
   ]
  },
  {
   "cell_type": "code",
   "execution_count": 12,
   "id": "1b80b60e",
   "metadata": {},
   "outputs": [],
   "source": [
    "#Initialising the ANN\n",
    "classifier=Sequential()\n"
   ]
  },
  {
   "cell_type": "code",
   "execution_count": 33,
   "id": "c1fb2864",
   "metadata": {},
   "outputs": [],
   "source": [
    "#Adding the first Hiden Layer along with the  inputLayer\n",
    "classifier.add(Dense(units=5,kernel_initializer='he_uniform',activation='relu',input_dim=11))"
   ]
  },
  {
   "cell_type": "code",
   "execution_count": 34,
   "id": "1cc855dc",
   "metadata": {},
   "outputs": [],
   "source": [
    "#Adding 2nd Hidden Layer\n",
    "classifier.add(Dense(units=5,kernel_initializer='he_uniform',activation='relu'))"
   ]
  },
  {
   "cell_type": "code",
   "execution_count": 35,
   "id": "29995928",
   "metadata": {},
   "outputs": [],
   "source": [
    "#Adding the Output Layer\n",
    "classifier.add(Dense(units=1,kernel_initializer='glorot_uniform',activation='sigmoid'))"
   ]
  },
  {
   "cell_type": "code",
   "execution_count": 36,
   "id": "53bc2f1c",
   "metadata": {},
   "outputs": [],
   "source": [
    "#Compilng the ANN\n",
    "classifier.compile(optimizer='adam',loss='binary_crossentropy',metrics=['accuracy'])"
   ]
  },
  {
   "cell_type": "code",
   "execution_count": 37,
   "id": "9cabb9e1",
   "metadata": {},
   "outputs": [
    {
     "name": "stdout",
     "output_type": "stream",
     "text": [
      "Epoch 1/130\n",
      "358/358 [==============================] - 2s 2ms/step - loss: 0.5818 - accuracy: 0.8498 - val_loss: 0.5033 - val_accuracy: 0.8478\n",
      "Epoch 2/130\n",
      "358/358 [==============================] - 1s 2ms/step - loss: 0.4234 - accuracy: 0.8709 - val_loss: 0.4053 - val_accuracy: 0.8504\n",
      "Epoch 3/130\n",
      "358/358 [==============================] - 1s 2ms/step - loss: 0.3527 - accuracy: 0.8722 - val_loss: 0.3932 - val_accuracy: 0.8387\n",
      "Epoch 4/130\n",
      "358/358 [==============================] - 1s 2ms/step - loss: 0.3284 - accuracy: 0.8750 - val_loss: 0.3771 - val_accuracy: 0.8497\n",
      "Epoch 5/130\n",
      "358/358 [==============================] - 1s 2ms/step - loss: 0.3169 - accuracy: 0.8718 - val_loss: 0.3796 - val_accuracy: 0.8444\n",
      "Epoch 6/130\n",
      "358/358 [==============================] - 1s 2ms/step - loss: 0.3135 - accuracy: 0.8746 - val_loss: 0.3763 - val_accuracy: 0.8451\n",
      "Epoch 7/130\n",
      "358/358 [==============================] - 1s 2ms/step - loss: 0.3111 - accuracy: 0.8726 - val_loss: 0.3802 - val_accuracy: 0.8451\n",
      "Epoch 8/130\n",
      "358/358 [==============================] - 1s 2ms/step - loss: 0.3077 - accuracy: 0.8742 - val_loss: 0.3789 - val_accuracy: 0.8451\n",
      "Epoch 9/130\n",
      "358/358 [==============================] - 1s 2ms/step - loss: 0.3048 - accuracy: 0.8740 - val_loss: 0.3810 - val_accuracy: 0.8478\n",
      "Epoch 10/130\n",
      "358/358 [==============================] - 1s 2ms/step - loss: 0.3065 - accuracy: 0.8744 - val_loss: 0.3808 - val_accuracy: 0.8482\n",
      "Epoch 11/130\n",
      "358/358 [==============================] - 1s 2ms/step - loss: 0.3033 - accuracy: 0.8763 - val_loss: 0.3850 - val_accuracy: 0.8508\n",
      "Epoch 12/130\n",
      "358/358 [==============================] - 1s 2ms/step - loss: 0.3035 - accuracy: 0.8753 - val_loss: 0.3808 - val_accuracy: 0.8482\n",
      "Epoch 13/130\n",
      "358/358 [==============================] - 1s 2ms/step - loss: 0.3021 - accuracy: 0.8742 - val_loss: 0.3834 - val_accuracy: 0.8470\n",
      "Epoch 14/130\n",
      "358/358 [==============================] - 1s 2ms/step - loss: 0.3012 - accuracy: 0.8770 - val_loss: 0.3851 - val_accuracy: 0.8436\n",
      "Epoch 15/130\n",
      "358/358 [==============================] - 1s 2ms/step - loss: 0.3019 - accuracy: 0.8755 - val_loss: 0.3852 - val_accuracy: 0.8421\n",
      "Epoch 16/130\n",
      "358/358 [==============================] - 1s 2ms/step - loss: 0.3009 - accuracy: 0.8785 - val_loss: 0.3878 - val_accuracy: 0.8455\n",
      "Epoch 17/130\n",
      "358/358 [==============================] - 1s 2ms/step - loss: 0.2999 - accuracy: 0.8770 - val_loss: 0.3839 - val_accuracy: 0.8455\n",
      "Epoch 18/130\n",
      "358/358 [==============================] - 1s 2ms/step - loss: 0.2998 - accuracy: 0.8796 - val_loss: 0.3847 - val_accuracy: 0.8451\n",
      "Epoch 19/130\n",
      "358/358 [==============================] - 1s 2ms/step - loss: 0.2999 - accuracy: 0.8770 - val_loss: 0.3870 - val_accuracy: 0.8417\n",
      "Epoch 20/130\n",
      "358/358 [==============================] - 1s 2ms/step - loss: 0.2997 - accuracy: 0.8780 - val_loss: 0.3829 - val_accuracy: 0.8497\n",
      "Epoch 21/130\n",
      "358/358 [==============================] - 1s 2ms/step - loss: 0.2989 - accuracy: 0.8806 - val_loss: 0.3872 - val_accuracy: 0.8463\n",
      "Epoch 22/130\n",
      "358/358 [==============================] - 1s 2ms/step - loss: 0.2977 - accuracy: 0.8785 - val_loss: 0.3898 - val_accuracy: 0.8448\n",
      "Epoch 23/130\n",
      "358/358 [==============================] - 1s 2ms/step - loss: 0.2987 - accuracy: 0.8778 - val_loss: 0.3893 - val_accuracy: 0.8436\n",
      "Epoch 24/130\n",
      "358/358 [==============================] - 1s 2ms/step - loss: 0.2992 - accuracy: 0.8768 - val_loss: 0.3854 - val_accuracy: 0.8474\n",
      "Epoch 25/130\n",
      "358/358 [==============================] - 1s 2ms/step - loss: 0.2971 - accuracy: 0.8802 - val_loss: 0.3875 - val_accuracy: 0.8448\n",
      "Epoch 26/130\n",
      "358/358 [==============================] - 1s 2ms/step - loss: 0.2971 - accuracy: 0.8774 - val_loss: 0.3848 - val_accuracy: 0.8489\n",
      "Epoch 27/130\n",
      "358/358 [==============================] - 1s 2ms/step - loss: 0.2963 - accuracy: 0.8813 - val_loss: 0.3866 - val_accuracy: 0.8459\n",
      "Epoch 28/130\n",
      "358/358 [==============================] - 1s 2ms/step - loss: 0.2961 - accuracy: 0.8806 - val_loss: 0.3917 - val_accuracy: 0.8425\n",
      "Epoch 29/130\n",
      "358/358 [==============================] - 1s 2ms/step - loss: 0.2966 - accuracy: 0.8800 - val_loss: 0.3962 - val_accuracy: 0.8429\n",
      "Epoch 30/130\n",
      "358/358 [==============================] - 1s 2ms/step - loss: 0.2956 - accuracy: 0.8793 - val_loss: 0.3875 - val_accuracy: 0.8417\n",
      "Epoch 31/130\n",
      "358/358 [==============================] - 1s 2ms/step - loss: 0.2963 - accuracy: 0.8783 - val_loss: 0.3900 - val_accuracy: 0.8485\n",
      "Epoch 32/130\n",
      "358/358 [==============================] - 1s 2ms/step - loss: 0.2961 - accuracy: 0.8791 - val_loss: 0.3884 - val_accuracy: 0.8482\n",
      "Epoch 33/130\n",
      "358/358 [==============================] - 1s 2ms/step - loss: 0.2946 - accuracy: 0.8795 - val_loss: 0.3882 - val_accuracy: 0.8482\n",
      "Epoch 34/130\n",
      "358/358 [==============================] - 1s 2ms/step - loss: 0.2954 - accuracy: 0.8759 - val_loss: 0.4075 - val_accuracy: 0.8342\n",
      "Epoch 35/130\n",
      "358/358 [==============================] - 1s 2ms/step - loss: 0.2947 - accuracy: 0.8783 - val_loss: 0.3904 - val_accuracy: 0.8474\n",
      "Epoch 36/130\n",
      "358/358 [==============================] - 1s 2ms/step - loss: 0.2933 - accuracy: 0.8806 - val_loss: 0.3863 - val_accuracy: 0.8474\n",
      "Epoch 37/130\n",
      "358/358 [==============================] - 1s 2ms/step - loss: 0.2927 - accuracy: 0.8811 - val_loss: 0.3884 - val_accuracy: 0.8455\n",
      "Epoch 38/130\n",
      "358/358 [==============================] - 1s 2ms/step - loss: 0.2956 - accuracy: 0.8776 - val_loss: 0.3859 - val_accuracy: 0.8497\n",
      "Epoch 39/130\n",
      "358/358 [==============================] - 1s 2ms/step - loss: 0.2941 - accuracy: 0.8798 - val_loss: 0.3847 - val_accuracy: 0.8482\n",
      "Epoch 40/130\n",
      "358/358 [==============================] - 1s 2ms/step - loss: 0.2924 - accuracy: 0.8791 - val_loss: 0.3894 - val_accuracy: 0.8444\n",
      "Epoch 41/130\n",
      "358/358 [==============================] - 1s 2ms/step - loss: 0.2934 - accuracy: 0.8813 - val_loss: 0.3854 - val_accuracy: 0.8470\n",
      "Epoch 42/130\n",
      "358/358 [==============================] - 1s 2ms/step - loss: 0.2930 - accuracy: 0.8813 - val_loss: 0.3898 - val_accuracy: 0.8444\n",
      "Epoch 43/130\n",
      "358/358 [==============================] - 1s 2ms/step - loss: 0.2929 - accuracy: 0.8823 - val_loss: 0.3933 - val_accuracy: 0.8402\n",
      "Epoch 44/130\n",
      "358/358 [==============================] - 1s 2ms/step - loss: 0.2948 - accuracy: 0.8783 - val_loss: 0.3860 - val_accuracy: 0.8470\n",
      "Epoch 45/130\n",
      "358/358 [==============================] - 1s 2ms/step - loss: 0.2930 - accuracy: 0.8793 - val_loss: 0.3948 - val_accuracy: 0.8429\n",
      "Epoch 46/130\n",
      "358/358 [==============================] - 1s 2ms/step - loss: 0.2936 - accuracy: 0.8791 - val_loss: 0.3975 - val_accuracy: 0.8410\n",
      "Epoch 47/130\n",
      "358/358 [==============================] - 1s 2ms/step - loss: 0.2929 - accuracy: 0.8813 - val_loss: 0.3913 - val_accuracy: 0.8425\n",
      "Epoch 48/130\n",
      "358/358 [==============================] - 1s 2ms/step - loss: 0.2928 - accuracy: 0.8821 - val_loss: 0.3856 - val_accuracy: 0.8474\n",
      "Epoch 49/130\n",
      "358/358 [==============================] - 1s 2ms/step - loss: 0.2922 - accuracy: 0.8809 - val_loss: 0.3921 - val_accuracy: 0.8425\n",
      "Epoch 50/130\n",
      "358/358 [==============================] - 1s 2ms/step - loss: 0.2931 - accuracy: 0.8819 - val_loss: 0.3930 - val_accuracy: 0.8432\n",
      "Epoch 51/130\n",
      "358/358 [==============================] - 1s 2ms/step - loss: 0.2922 - accuracy: 0.8815 - val_loss: 0.3874 - val_accuracy: 0.8463\n",
      "Epoch 52/130\n",
      "358/358 [==============================] - 1s 2ms/step - loss: 0.2915 - accuracy: 0.8791 - val_loss: 0.3880 - val_accuracy: 0.8455\n",
      "Epoch 53/130\n",
      "358/358 [==============================] - 1s 2ms/step - loss: 0.2924 - accuracy: 0.8811 - val_loss: 0.3948 - val_accuracy: 0.8391\n",
      "Epoch 54/130\n",
      "358/358 [==============================] - 1s 2ms/step - loss: 0.2907 - accuracy: 0.8804 - val_loss: 0.3881 - val_accuracy: 0.8440\n",
      "Epoch 55/130\n",
      "358/358 [==============================] - 1s 2ms/step - loss: 0.2907 - accuracy: 0.8847 - val_loss: 0.3937 - val_accuracy: 0.8444\n",
      "Epoch 56/130\n",
      "358/358 [==============================] - 1s 2ms/step - loss: 0.2925 - accuracy: 0.8793 - val_loss: 0.3907 - val_accuracy: 0.8493\n",
      "Epoch 57/130\n",
      "358/358 [==============================] - 1s 2ms/step - loss: 0.2897 - accuracy: 0.8819 - val_loss: 0.3948 - val_accuracy: 0.8402\n"
     ]
    },
    {
     "name": "stdout",
     "output_type": "stream",
     "text": [
      "Epoch 58/130\n",
      "358/358 [==============================] - 1s 2ms/step - loss: 0.2911 - accuracy: 0.8806 - val_loss: 0.3862 - val_accuracy: 0.8489\n",
      "Epoch 59/130\n",
      "358/358 [==============================] - 1s 2ms/step - loss: 0.2913 - accuracy: 0.8824 - val_loss: 0.3921 - val_accuracy: 0.8448\n",
      "Epoch 60/130\n",
      "358/358 [==============================] - 1s 2ms/step - loss: 0.2916 - accuracy: 0.8806 - val_loss: 0.3875 - val_accuracy: 0.8478\n",
      "Epoch 61/130\n",
      "358/358 [==============================] - 1s 2ms/step - loss: 0.2910 - accuracy: 0.8830 - val_loss: 0.3870 - val_accuracy: 0.8466\n",
      "Epoch 62/130\n",
      "358/358 [==============================] - 1s 2ms/step - loss: 0.2913 - accuracy: 0.8821 - val_loss: 0.3923 - val_accuracy: 0.8421\n",
      "Epoch 63/130\n",
      "358/358 [==============================] - 1s 2ms/step - loss: 0.2901 - accuracy: 0.8843 - val_loss: 0.3881 - val_accuracy: 0.8474\n",
      "Epoch 64/130\n",
      "358/358 [==============================] - 1s 2ms/step - loss: 0.2898 - accuracy: 0.8841 - val_loss: 0.3962 - val_accuracy: 0.8406\n",
      "Epoch 65/130\n",
      "358/358 [==============================] - 1s 2ms/step - loss: 0.2882 - accuracy: 0.8851 - val_loss: 0.3901 - val_accuracy: 0.8440\n",
      "Epoch 66/130\n",
      "358/358 [==============================] - 1s 2ms/step - loss: 0.2906 - accuracy: 0.8821 - val_loss: 0.3969 - val_accuracy: 0.8421\n",
      "Epoch 67/130\n",
      "358/358 [==============================] - 1s 2ms/step - loss: 0.2898 - accuracy: 0.8847 - val_loss: 0.3960 - val_accuracy: 0.8406\n",
      "Epoch 68/130\n",
      "358/358 [==============================] - 1s 2ms/step - loss: 0.2903 - accuracy: 0.8830 - val_loss: 0.3918 - val_accuracy: 0.8459\n",
      "Epoch 69/130\n",
      "358/358 [==============================] - 1s 2ms/step - loss: 0.2894 - accuracy: 0.8806 - val_loss: 0.3889 - val_accuracy: 0.8474\n",
      "Epoch 70/130\n",
      "358/358 [==============================] - 1s 2ms/step - loss: 0.2885 - accuracy: 0.8847 - val_loss: 0.3928 - val_accuracy: 0.8470\n",
      "Epoch 71/130\n",
      "358/358 [==============================] - 1s 2ms/step - loss: 0.2897 - accuracy: 0.8815 - val_loss: 0.3908 - val_accuracy: 0.8444\n",
      "Epoch 72/130\n",
      "358/358 [==============================] - 1s 2ms/step - loss: 0.2875 - accuracy: 0.8813 - val_loss: 0.3993 - val_accuracy: 0.8398\n",
      "Epoch 73/130\n",
      "358/358 [==============================] - 1s 2ms/step - loss: 0.2878 - accuracy: 0.8800 - val_loss: 0.3987 - val_accuracy: 0.8398\n",
      "Epoch 74/130\n",
      "358/358 [==============================] - 1s 2ms/step - loss: 0.2894 - accuracy: 0.8819 - val_loss: 0.3928 - val_accuracy: 0.8436\n",
      "Epoch 75/130\n",
      "358/358 [==============================] - 1s 2ms/step - loss: 0.2875 - accuracy: 0.8817 - val_loss: 0.4120 - val_accuracy: 0.8326\n",
      "Epoch 76/130\n",
      "358/358 [==============================] - 1s 2ms/step - loss: 0.2879 - accuracy: 0.8828 - val_loss: 0.3898 - val_accuracy: 0.8470\n",
      "Epoch 77/130\n",
      "358/358 [==============================] - 1s 2ms/step - loss: 0.2872 - accuracy: 0.8828 - val_loss: 0.3886 - val_accuracy: 0.8444\n",
      "Epoch 78/130\n",
      "358/358 [==============================] - 1s 2ms/step - loss: 0.2883 - accuracy: 0.8836 - val_loss: 0.3879 - val_accuracy: 0.8459\n",
      "Epoch 79/130\n",
      "358/358 [==============================] - 1s 2ms/step - loss: 0.2877 - accuracy: 0.8851 - val_loss: 0.3892 - val_accuracy: 0.8436\n",
      "Epoch 80/130\n",
      "358/358 [==============================] - 1s 2ms/step - loss: 0.2871 - accuracy: 0.8821 - val_loss: 0.3936 - val_accuracy: 0.8474\n",
      "Epoch 81/130\n",
      "358/358 [==============================] - 1s 2ms/step - loss: 0.2873 - accuracy: 0.8832 - val_loss: 0.3965 - val_accuracy: 0.8425\n",
      "Epoch 82/130\n",
      "358/358 [==============================] - 1s 2ms/step - loss: 0.2864 - accuracy: 0.8847 - val_loss: 0.3990 - val_accuracy: 0.8398\n",
      "Epoch 83/130\n",
      "358/358 [==============================] - 1s 2ms/step - loss: 0.2865 - accuracy: 0.8849 - val_loss: 0.4140 - val_accuracy: 0.8330\n",
      "Epoch 84/130\n",
      "358/358 [==============================] - 1s 2ms/step - loss: 0.2866 - accuracy: 0.8864 - val_loss: 0.3931 - val_accuracy: 0.8444\n",
      "Epoch 85/130\n",
      "358/358 [==============================] - 1s 2ms/step - loss: 0.2869 - accuracy: 0.8837 - val_loss: 0.3899 - val_accuracy: 0.8466\n",
      "Epoch 86/130\n",
      "358/358 [==============================] - 1s 2ms/step - loss: 0.2881 - accuracy: 0.8847 - val_loss: 0.3910 - val_accuracy: 0.8474\n",
      "Epoch 87/130\n",
      "358/358 [==============================] - 1s 2ms/step - loss: 0.2870 - accuracy: 0.8852 - val_loss: 0.3938 - val_accuracy: 0.8470\n",
      "Epoch 88/130\n",
      "358/358 [==============================] - 1s 2ms/step - loss: 0.2864 - accuracy: 0.8830 - val_loss: 0.3968 - val_accuracy: 0.8387\n",
      "Epoch 89/130\n",
      "358/358 [==============================] - 1s 2ms/step - loss: 0.2865 - accuracy: 0.8821 - val_loss: 0.3945 - val_accuracy: 0.8448\n",
      "Epoch 90/130\n",
      "358/358 [==============================] - 1s 2ms/step - loss: 0.2861 - accuracy: 0.8817 - val_loss: 0.3958 - val_accuracy: 0.8459\n",
      "Epoch 91/130\n",
      "358/358 [==============================] - 1s 2ms/step - loss: 0.2867 - accuracy: 0.8851 - val_loss: 0.3985 - val_accuracy: 0.8398\n",
      "Epoch 92/130\n",
      "358/358 [==============================] - 1s 2ms/step - loss: 0.2851 - accuracy: 0.8823 - val_loss: 0.4069 - val_accuracy: 0.8368\n",
      "Epoch 93/130\n",
      "358/358 [==============================] - 1s 2ms/step - loss: 0.2868 - accuracy: 0.8856 - val_loss: 0.4073 - val_accuracy: 0.8345\n",
      "Epoch 94/130\n",
      "358/358 [==============================] - 1s 2ms/step - loss: 0.2851 - accuracy: 0.8849 - val_loss: 0.4011 - val_accuracy: 0.8387\n",
      "Epoch 95/130\n",
      "358/358 [==============================] - 1s 2ms/step - loss: 0.2853 - accuracy: 0.8847 - val_loss: 0.4016 - val_accuracy: 0.8429\n",
      "Epoch 96/130\n",
      "358/358 [==============================] - 1s 2ms/step - loss: 0.2857 - accuracy: 0.8877 - val_loss: 0.3973 - val_accuracy: 0.8451\n",
      "Epoch 97/130\n",
      "358/358 [==============================] - 1s 2ms/step - loss: 0.2843 - accuracy: 0.8869 - val_loss: 0.4004 - val_accuracy: 0.8421\n",
      "Epoch 98/130\n",
      "358/358 [==============================] - 1s 2ms/step - loss: 0.2853 - accuracy: 0.8826 - val_loss: 0.3986 - val_accuracy: 0.8421\n",
      "Epoch 99/130\n",
      "358/358 [==============================] - 1s 2ms/step - loss: 0.2863 - accuracy: 0.8798 - val_loss: 0.3953 - val_accuracy: 0.8410\n",
      "Epoch 100/130\n",
      "358/358 [==============================] - 1s 2ms/step - loss: 0.2855 - accuracy: 0.8879 - val_loss: 0.3972 - val_accuracy: 0.8432\n",
      "Epoch 101/130\n",
      "358/358 [==============================] - 1s 2ms/step - loss: 0.2863 - accuracy: 0.8841 - val_loss: 0.3944 - val_accuracy: 0.8459\n",
      "Epoch 102/130\n",
      "358/358 [==============================] - 1s 2ms/step - loss: 0.2847 - accuracy: 0.8882 - val_loss: 0.3953 - val_accuracy: 0.8470\n",
      "Epoch 103/130\n",
      "358/358 [==============================] - 1s 2ms/step - loss: 0.2843 - accuracy: 0.8858 - val_loss: 0.4028 - val_accuracy: 0.8455\n",
      "Epoch 104/130\n",
      "358/358 [==============================] - 1s 2ms/step - loss: 0.2846 - accuracy: 0.8856 - val_loss: 0.4098 - val_accuracy: 0.8410\n",
      "Epoch 105/130\n",
      "358/358 [==============================] - 1s 2ms/step - loss: 0.2853 - accuracy: 0.8847 - val_loss: 0.4042 - val_accuracy: 0.8470\n",
      "Epoch 106/130\n",
      "358/358 [==============================] - 1s 2ms/step - loss: 0.2853 - accuracy: 0.8849 - val_loss: 0.3939 - val_accuracy: 0.8448\n",
      "Epoch 107/130\n",
      "358/358 [==============================] - 1s 2ms/step - loss: 0.2847 - accuracy: 0.8824 - val_loss: 0.3954 - val_accuracy: 0.8410\n",
      "Epoch 108/130\n",
      "358/358 [==============================] - 1s 2ms/step - loss: 0.2842 - accuracy: 0.8854 - val_loss: 0.3972 - val_accuracy: 0.8425\n",
      "Epoch 109/130\n",
      "358/358 [==============================] - 1s 2ms/step - loss: 0.2835 - accuracy: 0.8856 - val_loss: 0.3985 - val_accuracy: 0.8429\n",
      "Epoch 110/130\n",
      "358/358 [==============================] - 1s 2ms/step - loss: 0.2850 - accuracy: 0.8867 - val_loss: 0.3970 - val_accuracy: 0.8478\n",
      "Epoch 111/130\n",
      "358/358 [==============================] - 1s 2ms/step - loss: 0.2860 - accuracy: 0.8849 - val_loss: 0.3985 - val_accuracy: 0.8410\n",
      "Epoch 112/130\n",
      "358/358 [==============================] - 1s 2ms/step - loss: 0.2834 - accuracy: 0.8867 - val_loss: 0.4052 - val_accuracy: 0.8410\n",
      "Epoch 113/130\n",
      "358/358 [==============================] - 1s 2ms/step - loss: 0.2849 - accuracy: 0.8860 - val_loss: 0.3978 - val_accuracy: 0.8421\n",
      "Epoch 114/130\n",
      "358/358 [==============================] - 1s 2ms/step - loss: 0.2826 - accuracy: 0.8851 - val_loss: 0.3945 - val_accuracy: 0.8474\n"
     ]
    },
    {
     "name": "stdout",
     "output_type": "stream",
     "text": [
      "Epoch 115/130\n",
      "358/358 [==============================] - 1s 2ms/step - loss: 0.2835 - accuracy: 0.8882 - val_loss: 0.3987 - val_accuracy: 0.8402\n",
      "Epoch 116/130\n",
      "358/358 [==============================] - 1s 2ms/step - loss: 0.2831 - accuracy: 0.8867 - val_loss: 0.3995 - val_accuracy: 0.8463\n",
      "Epoch 117/130\n",
      "358/358 [==============================] - 1s 2ms/step - loss: 0.2838 - accuracy: 0.8854 - val_loss: 0.4038 - val_accuracy: 0.8432\n",
      "Epoch 118/130\n",
      "358/358 [==============================] - 1s 2ms/step - loss: 0.2823 - accuracy: 0.8854 - val_loss: 0.3967 - val_accuracy: 0.8466\n",
      "Epoch 119/130\n",
      "358/358 [==============================] - 1s 2ms/step - loss: 0.2827 - accuracy: 0.8897 - val_loss: 0.3991 - val_accuracy: 0.8451\n",
      "Epoch 120/130\n",
      "358/358 [==============================] - 1s 2ms/step - loss: 0.2843 - accuracy: 0.8851 - val_loss: 0.4006 - val_accuracy: 0.8463\n",
      "Epoch 121/130\n",
      "358/358 [==============================] - 1s 2ms/step - loss: 0.2845 - accuracy: 0.8869 - val_loss: 0.3969 - val_accuracy: 0.8432\n",
      "Epoch 122/130\n",
      "358/358 [==============================] - 1s 2ms/step - loss: 0.2827 - accuracy: 0.8843 - val_loss: 0.4140 - val_accuracy: 0.8326\n",
      "Epoch 123/130\n",
      "358/358 [==============================] - 1s 2ms/step - loss: 0.2828 - accuracy: 0.8845 - val_loss: 0.3963 - val_accuracy: 0.8425\n",
      "Epoch 124/130\n",
      "358/358 [==============================] - 1s 2ms/step - loss: 0.2825 - accuracy: 0.8879 - val_loss: 0.4037 - val_accuracy: 0.8474\n",
      "Epoch 125/130\n",
      "358/358 [==============================] - 1s 2ms/step - loss: 0.2839 - accuracy: 0.8847 - val_loss: 0.3983 - val_accuracy: 0.8410\n",
      "Epoch 126/130\n",
      "358/358 [==============================] - 1s 2ms/step - loss: 0.2850 - accuracy: 0.8867 - val_loss: 0.3997 - val_accuracy: 0.8417\n",
      "Epoch 127/130\n",
      "358/358 [==============================] - 1s 2ms/step - loss: 0.2828 - accuracy: 0.8843 - val_loss: 0.3999 - val_accuracy: 0.8410\n",
      "Epoch 128/130\n",
      "358/358 [==============================] - 1s 2ms/step - loss: 0.2839 - accuracy: 0.8860 - val_loss: 0.3978 - val_accuracy: 0.8436\n",
      "Epoch 129/130\n",
      "358/358 [==============================] - 1s 2ms/step - loss: 0.2822 - accuracy: 0.8847 - val_loss: 0.3966 - val_accuracy: 0.8455\n",
      "Epoch 130/130\n",
      "358/358 [==============================] - 1s 2ms/step - loss: 0.2829 - accuracy: 0.8862 - val_loss: 0.4028 - val_accuracy: 0.8429\n"
     ]
    }
   ],
   "source": [
    "#Fitting the ANN to the Training set\n",
    "model_history=classifier.fit(X_train,y_train,validation_split=0.33, batch_size=15,epochs=130)"
   ]
  },
  {
   "cell_type": "code",
   "execution_count": 38,
   "id": "8f153960",
   "metadata": {},
   "outputs": [
    {
     "name": "stdout",
     "output_type": "stream",
     "text": [
      "dict_keys(['loss', 'accuracy', 'val_loss', 'val_accuracy'])\n"
     ]
    }
   ],
   "source": [
    "#list all data in history\n",
    "print(model_history.history.keys())"
   ]
  },
  {
   "cell_type": "code",
   "execution_count": 39,
   "id": "7d8470ae",
   "metadata": {},
   "outputs": [
    {
     "data": {
      "image/png": "[encoded data removed]",
      "text/plain": [
       "<Figure size 432x288 with 1 Axes>"
      ]
     },
     "metadata": {
      "needs_background": "light"
     },
     "output_type": "display_data"
    }
   ],
   "source": [
    "plt.plot(model_history.history['accuracy'])\n",
    "plt.plot(model_history.history['val_accuracy'])\n",
    "plt.title(\"Model Accuracy\")\n",
    "plt.ylabel(\"accuracy\")\n",
    "plt.xlabel(\"epochs\")\n",
    "plt.legend([\"train\",'test'],loc='upper left')\n",
    "plt.show()"
   ]
  },
  {
   "cell_type": "code",
   "execution_count": 40,
   "id": "78251a18",
   "metadata": {},
   "outputs": [
    {
     "data": {
      "image/png": "[encoded data removed]",
      "text/plain": [
       "<Figure size 432x288 with 1 Axes>"
      ]
     },
     "metadata": {
      "needs_background": "light"
     },
     "output_type": "display_data"
    }
   ],
   "source": [
    "# summarize history for loss\n",
    "plt.plot(model_history.history['loss'])\n",
    "plt.plot(model_history.history['val_loss'])\n",
    "plt.title('model loss')\n",
    "plt.ylabel('loss')\n",
    "plt.xlabel('epoch')\n",
    "plt.legend(['train', 'test'], loc='upper left')\n",
    "plt.show()"
   ]
  },
  {
   "cell_type": "code",
   "execution_count": 41,
   "id": "c220b760",
   "metadata": {},
   "outputs": [
    {
     "name": "stdout",
     "output_type": "stream",
     "text": [
      "[[False]\n",
      " [False]\n",
      " [False]\n",
      " ...\n",
      " [False]\n",
      " [False]\n",
      " [False]]\n"
     ]
    }
   ],
   "source": [
    "# Part 3 - Making the predictions and evaluating the model\n",
    "\n",
    "# Predicting the Test set results\n",
    "y_pred = classifier.predict(X_test)\n",
    "y_pred = (y_pred > 0.5)\n",
    "\n",
    "print(y_pred)"
   ]
  },
  {
   "cell_type": "code",
   "execution_count": 42,
   "id": "ace039e5",
   "metadata": {},
   "outputs": [
    {
     "name": "stdout",
     "output_type": "stream",
     "text": [
      "[[1490  105]\n",
      " [ 207  198]]\n",
      "0.844\n"
     ]
    }
   ],
   "source": [
    "# Making the Confusion Matrix\n",
    "from sklearn.metrics import confusion_matrix\n",
    "cm = confusion_matrix(y_test, y_pred)\n",
    "\n",
    "print(cm)\n",
    "# Calculate the Accuracy\n",
    "from sklearn.metrics import accuracy_score\n",
    "score=accuracy_score(y_pred,y_test)\n",
    "\n",
    "print(score)"
   ]
  },
  {
   "cell_type": "code",
   "execution_count": null,
   "id": "f260c5da",
   "metadata": {},
   "outputs": [],
   "source": []
  },
  {
   "cell_type": "code",
   "execution_count": null,
   "id": "a3c3c33e",
   "metadata": {},
   "outputs": [],
   "source": []
  }
 ],
 "metadata": {
  "kernelspec": {
   "display_name": "Python 3 (ipykernel)",
   "language": "python",
   "name": "python3"
  },
  "language_info": {
   "codemirror_mode": {
    "name": "ipython",
    "version": 3
   },
   "file_extension": ".py",
   "mimetype": "text/x-python",
   "name": "python",
   "nbconvert_exporter": "python",
   "pygments_lexer": "ipython3",
   "version": "3.9.7"
  },
  "toc": {
   "base_numbering": 1,
   "nav_menu": {},
   "number_sections": true,
   "sideBar": true,
   "skip_h1_title": false,
   "title_cell": "Table of Contents",
   "title_sidebar": "Contents",
   "toc_cell": false,
   "toc_position": {},
   "toc_section_display": true,
   "toc_window_display": false
  }
 },
 "nbformat": 4,
 "nbformat_minor": 5
}
